{
  "cells": [
    {
      "cell_type": "code",
      "execution_count": 1,
      "metadata": {
        "colab": {
          "base_uri": "https://localhost:8080/"
        },
        "id": "gpcT5ND9HgJ0",
        "outputId": "335df80c-63ea-4472-f9c4-a65a96d52e7d"
      },
      "outputs": [
        {
          "ename": "ImportError",
          "evalue": "cannot import name 'maximize' from 'scipy.optimize' (c:\\ProgramData\\anaconda3\\Lib\\site-packages\\scipy\\optimize\\__init__.py)",
          "output_type": "error",
          "traceback": [
            "\u001b[1;31m---------------------------------------------------------------------------\u001b[0m",
            "\u001b[1;31mImportError\u001b[0m                               Traceback (most recent call last)",
            "Cell \u001b[1;32mIn[1], line 2\u001b[0m\n\u001b[0;32m      1\u001b[0m \u001b[38;5;28;01mimport\u001b[39;00m \u001b[38;5;21;01mnumpy\u001b[39;00m \u001b[38;5;28;01mas\u001b[39;00m \u001b[38;5;21;01mnp\u001b[39;00m\n\u001b[1;32m----> 2\u001b[0m \u001b[38;5;28;01mfrom\u001b[39;00m \u001b[38;5;21;01mscipy\u001b[39;00m\u001b[38;5;21;01m.\u001b[39;00m\u001b[38;5;21;01moptimize\u001b[39;00m \u001b[38;5;28;01mimport\u001b[39;00m maximize\n\u001b[0;32m      3\u001b[0m \u001b[38;5;28;01mimport\u001b[39;00m \u001b[38;5;21;01mmath\u001b[39;00m\n\u001b[0;32m      5\u001b[0m \u001b[38;5;28;01mdef\u001b[39;00m \u001b[38;5;21mobjective\u001b[39m(x):\n",
            "\u001b[1;31mImportError\u001b[0m: cannot import name 'maximize' from 'scipy.optimize' (c:\\ProgramData\\anaconda3\\Lib\\site-packages\\scipy\\optimize\\__init__.py)"
          ]
        }
      ],
      "source": [
        "import numpy as np\n",
        "from scipy.optimize import maximize\n",
        "import math\n",
        "\n",
        "def objective(x):\n",
        "    return 15*x[0] + 20*x[1] - 1/2 * math.sqrt(x[0]**2*math.pi/2) - 1/3 * math.sqrt(x[1]**2*3*math.pi/4)\n",
        "\n",
        "def constraints(x):\n",
        "    return [2*x[0] + 3*x[1] - 180, x[0] + 2*x[1] - 120, 2*x[0] + 3*x[1] - 80]\n",
        "\n",
        "x0 = np.array([0, 0])\n",
        "bnds = [(0, None), (0, None)]\n",
        "\n",
        "con = {'type': 'ineq', 'fun': constraints}\n",
        "\n",
        "sol = maximize(objective, x0, method='SLSQP', bounds=bnds, constraints=con)\n",
        "\n",
        "print(\"Solution: x1 =\", sol.x[0], \", x2 =\", sol.x[1])\n",
        "print(\"Coût optimal : \", sol.fun)\n"
      ]
    }
  ],
  "metadata": {
    "colab": {
      "provenance": []
    },
    "kernelspec": {
      "display_name": "Python 3",
      "name": "python3"
    },
    "language_info": {
      "codemirror_mode": {
        "name": "ipython",
        "version": 3
      },
      "file_extension": ".py",
      "mimetype": "text/x-python",
      "name": "python",
      "nbconvert_exporter": "python",
      "pygments_lexer": "ipython3",
      "version": "3.11.7"
    }
  },
  "nbformat": 4,
  "nbformat_minor": 0
}
