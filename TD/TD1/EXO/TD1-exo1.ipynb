{
  "cells": [
    {
      "cell_type": "code",
      "execution_count": 4,
      "metadata": {
        "colab": {
          "base_uri": "https://localhost:8080/"
        },
        "id": "rt7QS1q2gUVL",
        "outputId": "e80ef9e3-cb19-4cc0-c4f6-635f09512b54"
      },
      "outputs": [
        {
          "name": "stdout",
          "output_type": "stream",
          "text": [
            "Status: Optimal\n",
            "x = 64.0, y = 2.0 => Heures de travail minimales = 68.0\n"
          ]
        },
        {
          "name": "stderr",
          "output_type": "stream",
          "text": [
            "C:\\Users\\cetinkam\\AppData\\Roaming\\Python\\Python311\\site-packages\\pulp\\pulp.py:1298: UserWarning: Spaces are not permitted in the name. Converted to '_'\n",
            "  warnings.warn(\"Spaces are not permitted in the name. Converted to '_'\")\n"
          ]
        }
      ],
      "source": [
        "from pulp import *\n",
        "\n",
        "# Créer le problème de minimisation\n",
        "prob = LpProblem(\"Minimisation des heures pour 1000€ de bénéfice\", LpMinimize)\n",
        "\n",
        "# Créer les variables de décision\n",
        "x = LpVariable(\"x\", 0, None, cat='Integer') # Nombre de chaises produites\n",
        "y = LpVariable(\"y\", 0, None, cat='Integer') # Nombre de tables produites\n",
        "\n",
        "# Ajouter la fonction objectif\n",
        "prob += x + 2*y, \"Heures de travail totales\"\n",
        "\n",
        "# Ajouter les contraintes\n",
        "prob += 15*x + 20*y == 1000  # Bénéfice de 1000€\n",
        "prob += 2*x + 5*y <= 180    # Stock de bois limité\n",
        "prob += 3*x + 4*y <= 200    # Stock de métal limité\n",
        "prob += x >= 0  # Non-négativité de x\n",
        "prob += y >= 0  # Non-négativité de y\n",
        "\n",
        "# Résoudre le problème\n",
        "status = prob.solve()\n",
        "\n",
        "# Afficher la solution\n",
        "print(f'Status: {LpStatus[status]}')\n",
        "print(f'x = {x.value()}, y = {y.value()} => Heures de travail minimales = {x.value() + 2*y.value()}')\n"
      ]
    },
    {
      "cell_type": "code",
      "execution_count": null,
      "metadata": {
        "id": "w8QUg6dOgVAG"
      },
      "outputs": [],
      "source": []
    }
  ],
  "metadata": {
    "colab": {
      "provenance": []
    },
    "kernelspec": {
      "display_name": "Python 3",
      "name": "python3"
    },
    "language_info": {
      "codemirror_mode": {
        "name": "ipython",
        "version": 3
      },
      "file_extension": ".py",
      "mimetype": "text/x-python",
      "name": "python",
      "nbconvert_exporter": "python",
      "pygments_lexer": "ipython3",
      "version": "3.11.7"
    }
  },
  "nbformat": 4,
  "nbformat_minor": 0
}
