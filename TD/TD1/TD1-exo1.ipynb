{
  "nbformat": 4,
  "nbformat_minor": 0,
  "metadata": {
    "colab": {
      "provenance": []
    },
    "kernelspec": {
      "name": "python3",
      "display_name": "Python 3"
    },
    "language_info": {
      "name": "python"
    }
  },
  "cells": [
    {
      "cell_type": "code",
      "execution_count": 7,
      "metadata": {
        "colab": {
          "base_uri": "https://localhost:8080/"
        },
        "id": "rt7QS1q2gUVL",
        "outputId": "e80ef9e3-cb19-4cc0-c4f6-635f09512b54"
      },
      "outputs": [
        {
          "output_type": "stream",
          "name": "stdout",
          "text": [
            "Looking in indexes: https://pypi.org/simple, https://us-python.pkg.dev/colab-wheels/public/simple/\n",
            "Requirement already satisfied: pulp in /usr/local/lib/python3.8/dist-packages (2.7.0)\n",
            "Status: Optimal\n",
            "x = 52.0, y = 11.0 => Z = 1000.0\n"
          ]
        }
      ],
      "source": [
        "\n",
        "!pip install pulp\n",
        "from pulp import *\n",
        "\n",
        "# Create the problem variable\n",
        "prob = LpProblem(\"Meubles production\", LpMaximize)\n",
        "\n",
        "# Create problem variables\n",
        "x = LpVariable(\"x\", 0, None, cat='Integer') # Nombre de chaises produites\n",
        "y = LpVariable(\"y\", 0, None, cat='Integer') # Nombre de tables produites\n",
        "\n",
        "# Add objective function\n",
        "prob += 15*x + 20*y, \"Z\"\n",
        "\n",
        "# Add constraints\n",
        "prob += x + 2*y <= 75 # nombre limité d'heures de travail disponibles\n",
        "prob += 3*x + 4*y <= 200 # stock limité de métal\n",
        "prob += 2*x + 5*y <= 180 # stock limité de bois\n",
        "\n",
        "# Solve the problem\n",
        "status = prob.solve()\n",
        "\n",
        "# Print the solution\n",
        "print(f'Status: {LpStatus[status]}')\n",
        "print(f'x = {x.value()}, y = {y.value()} => Z = {value(prob.objective)}')"
      ]
    },
    {
      "cell_type": "code",
      "source": [],
      "metadata": {
        "id": "w8QUg6dOgVAG"
      },
      "execution_count": null,
      "outputs": []
    }
  ]
}