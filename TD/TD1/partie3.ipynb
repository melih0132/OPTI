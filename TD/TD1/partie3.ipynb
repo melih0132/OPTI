{
  "cells": [
    {
      "cell_type": "code",
      "execution_count": 29,
      "metadata": {
        "colab": {
          "base_uri": "https://localhost:8080/"
        },
        "id": "gpcT5ND9HgJ0",
        "outputId": "335df80c-63ea-4472-f9c4-a65a96d52e7d"
      },
      "outputs": [
        {
          "name": "stdout",
          "output_type": "stream",
          "text": [
            "Solution: x1 = 0.0 , x2 = 59.99999999996376\n",
            "Coût optimal :  1169.300198760899\n"
          ]
        }
      ],
      "source": [
        "import numpy as np\n",
        "from scipy.optimize import maximize\n",
        "import math\n",
        "\n",
        "def objective(x):\n",
        "    return 15*x[0] + 20*x[1] - 1/2 * math.sqrt(x[0]**2*math.pi/2) - 1/3 * math.sqrt(x[1]**2*3*math.pi/4)\n",
        "\n",
        "def constraints(x):\n",
        "    return [2*x[0] + 3*x[1] - 180, x[0] + 2*x[1] - 120, 2*x[0] + 3*x[1] - 80]\n",
        "\n",
        "x0 = np.array([0, 0])\n",
        "bnds = [(0, None), (0, None)]\n",
        "\n",
        "con = {'type': 'ineq', 'fun': constraints}\n",
        "\n",
        "sol = maximize(objective, x0, method='SLSQP', bounds=bnds, constraints=con)\n",
        "\n",
        "print(\"Solution: x1 =\", sol.x[0], \", x2 =\", sol.x[1])\n",
        "print(\"Coût optimal : \", sol.fun)\n"
      ]
    }
  ],
  "metadata": {
    "colab": {
      "provenance": []
    },
    "kernelspec": {
      "display_name": "Python 3",
      "name": "python3"
    },
    "language_info": {
      "name": "python"
    }
  },
  "nbformat": 4,
  "nbformat_minor": 0
}
